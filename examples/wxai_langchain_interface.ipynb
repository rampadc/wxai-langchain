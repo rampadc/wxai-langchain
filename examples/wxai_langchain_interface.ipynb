{
 "cells": [
  {
   "cell_type": "code",
   "execution_count": 1,
   "id": "3598173c36fa8565",
   "metadata": {
    "ExecuteTime": {
     "end_time": "2023-07-27T10:05:32.276533200Z",
     "start_time": "2023-07-27T10:05:30.685490400Z"
    },
    "collapsed": false,
    "jupyter": {
     "outputs_hidden": false
    },
    "tags": []
   },
   "outputs": [
    {
     "name": "stdout",
     "output_type": "stream",
     "text": [
      "Requirement already satisfied: ibm_cloud_sdk_core in c:\\users\\congn\\anaconda3\\envs\\wxai_langchain\\lib\\site-packages (3.16.7)\n",
      "Requirement already satisfied: requests<3.0.0,>=2.31.0 in c:\\users\\congn\\anaconda3\\envs\\wxai_langchain\\lib\\site-packages (from ibm_cloud_sdk_core) (2.31.0)\n",
      "Requirement already satisfied: urllib3<2.0.0,>=1.26.0 in c:\\users\\congn\\anaconda3\\envs\\wxai_langchain\\lib\\site-packages (from ibm_cloud_sdk_core) (1.26.16)\n",
      "Requirement already satisfied: python-dateutil<3.0.0,>=2.5.3 in c:\\users\\congn\\anaconda3\\envs\\wxai_langchain\\lib\\site-packages (from ibm_cloud_sdk_core) (2.8.2)\n",
      "Requirement already satisfied: PyJWT<3.0.0,>=2.4.0 in c:\\users\\congn\\anaconda3\\envs\\wxai_langchain\\lib\\site-packages (from ibm_cloud_sdk_core) (2.8.0)\n",
      "Requirement already satisfied: six>=1.5 in c:\\users\\congn\\anaconda3\\envs\\wxai_langchain\\lib\\site-packages (from python-dateutil<3.0.0,>=2.5.3->ibm_cloud_sdk_core) (1.16.0)\n",
      "Requirement already satisfied: charset-normalizer<4,>=2 in c:\\users\\congn\\appdata\\roaming\\python\\python39\\site-packages (from requests<3.0.0,>=2.31.0->ibm_cloud_sdk_core) (3.2.0)\n",
      "Requirement already satisfied: idna<4,>=2.5 in c:\\users\\congn\\anaconda3\\envs\\wxai_langchain\\lib\\site-packages (from requests<3.0.0,>=2.31.0->ibm_cloud_sdk_core) (3.4)\n",
      "Requirement already satisfied: certifi>=2017.4.17 in c:\\users\\congn\\anaconda3\\envs\\wxai_langchain\\lib\\site-packages (from requests<3.0.0,>=2.31.0->ibm_cloud_sdk_core) (2023.7.22)\n",
      "Requirement already satisfied: ibm-generative-ai in c:\\users\\congn\\anaconda3\\envs\\wxai_langchain\\lib\\site-packages (0.2.3)\n",
      "Requirement already satisfied: urllib3<2 in c:\\users\\congn\\anaconda3\\envs\\wxai_langchain\\lib\\site-packages (from ibm-generative-ai) (1.26.16)\n",
      "Requirement already satisfied: requests>=2.31.0 in c:\\users\\congn\\anaconda3\\envs\\wxai_langchain\\lib\\site-packages (from ibm-generative-ai) (2.31.0)\n",
      "Requirement already satisfied: pydantic<=1.10.10 in c:\\users\\congn\\anaconda3\\envs\\wxai_langchain\\lib\\site-packages (from ibm-generative-ai) (1.10.10)\n",
      "Requirement already satisfied: python-dotenv>=1.0.0 in c:\\users\\congn\\anaconda3\\envs\\wxai_langchain\\lib\\site-packages (from ibm-generative-ai) (1.0.0)\n",
      "Requirement already satisfied: aiohttp>=3.8.4 in c:\\users\\congn\\anaconda3\\envs\\wxai_langchain\\lib\\site-packages (from ibm-generative-ai) (3.8.5)\n",
      "Requirement already satisfied: pyyaml>=0.2.5 in c:\\users\\congn\\anaconda3\\envs\\wxai_langchain\\lib\\site-packages (from ibm-generative-ai) (6.0)\n",
      "Requirement already satisfied: httpx>=0.24.1 in c:\\users\\congn\\anaconda3\\envs\\wxai_langchain\\lib\\site-packages (from ibm-generative-ai) (0.24.1)\n",
      "Requirement already satisfied: aiolimiter>=1.1.0 in c:\\users\\congn\\anaconda3\\envs\\wxai_langchain\\lib\\site-packages (from ibm-generative-ai) (1.1.0)\n",
      "Requirement already satisfied: tqdm>=4.65.0 in c:\\users\\congn\\anaconda3\\envs\\wxai_langchain\\lib\\site-packages (from ibm-generative-ai) (4.65.0)\n",
      "Requirement already satisfied: attrs>=17.3.0 in c:\\users\\congn\\anaconda3\\envs\\wxai_langchain\\lib\\site-packages (from aiohttp>=3.8.4->ibm-generative-ai) (22.1.0)\n",
      "Requirement already satisfied: charset-normalizer<4.0,>=2.0 in c:\\users\\congn\\appdata\\roaming\\python\\python39\\site-packages (from aiohttp>=3.8.4->ibm-generative-ai) (3.2.0)\n",
      "Requirement already satisfied: multidict<7.0,>=4.5 in c:\\users\\congn\\anaconda3\\envs\\wxai_langchain\\lib\\site-packages (from aiohttp>=3.8.4->ibm-generative-ai) (6.0.4)\n",
      "Requirement already satisfied: async-timeout<5.0,>=4.0.0a3 in c:\\users\\congn\\anaconda3\\envs\\wxai_langchain\\lib\\site-packages (from aiohttp>=3.8.4->ibm-generative-ai) (4.0.2)\n",
      "Requirement already satisfied: yarl<2.0,>=1.0 in c:\\users\\congn\\anaconda3\\envs\\wxai_langchain\\lib\\site-packages (from aiohttp>=3.8.4->ibm-generative-ai) (1.9.2)\n",
      "Requirement already satisfied: frozenlist>=1.1.1 in c:\\users\\congn\\anaconda3\\envs\\wxai_langchain\\lib\\site-packages (from aiohttp>=3.8.4->ibm-generative-ai) (1.4.0)\n",
      "Requirement already satisfied: aiosignal>=1.1.2 in c:\\users\\congn\\anaconda3\\envs\\wxai_langchain\\lib\\site-packages (from aiohttp>=3.8.4->ibm-generative-ai) (1.3.1)\n",
      "Requirement already satisfied: certifi in c:\\users\\congn\\anaconda3\\envs\\wxai_langchain\\lib\\site-packages (from httpx>=0.24.1->ibm-generative-ai) (2023.7.22)\n",
      "Requirement already satisfied: httpcore<0.18.0,>=0.15.0 in c:\\users\\congn\\anaconda3\\envs\\wxai_langchain\\lib\\site-packages (from httpx>=0.24.1->ibm-generative-ai) (0.17.3)\n",
      "Requirement already satisfied: idna in c:\\users\\congn\\anaconda3\\envs\\wxai_langchain\\lib\\site-packages (from httpx>=0.24.1->ibm-generative-ai) (3.4)\n",
      "Requirement already satisfied: sniffio in c:\\users\\congn\\anaconda3\\envs\\wxai_langchain\\lib\\site-packages (from httpx>=0.24.1->ibm-generative-ai) (1.2.0)\n",
      "Requirement already satisfied: typing-extensions>=4.2.0 in c:\\users\\congn\\anaconda3\\envs\\wxai_langchain\\lib\\site-packages (from pydantic<=1.10.10->ibm-generative-ai) (4.7.1)\n",
      "Requirement already satisfied: colorama in c:\\users\\congn\\anaconda3\\envs\\wxai_langchain\\lib\\site-packages (from tqdm>=4.65.0->ibm-generative-ai) (0.4.6)\n",
      "Requirement already satisfied: h11<0.15,>=0.13 in c:\\users\\congn\\anaconda3\\envs\\wxai_langchain\\lib\\site-packages (from httpcore<0.18.0,>=0.15.0->httpx>=0.24.1->ibm-generative-ai) (0.14.0)\n",
      "Requirement already satisfied: anyio<5.0,>=3.0 in c:\\users\\congn\\anaconda3\\envs\\wxai_langchain\\lib\\site-packages (from httpcore<0.18.0,>=0.15.0->httpx>=0.24.1->ibm-generative-ai) (3.5.0)\n",
      "Requirement already satisfied: langchain in c:\\users\\congn\\anaconda3\\envs\\wxai_langchain\\lib\\site-packages (0.0.244)\n",
      "Requirement already satisfied: PyYAML>=5.4.1 in c:\\users\\congn\\anaconda3\\envs\\wxai_langchain\\lib\\site-packages (from langchain) (6.0)\n",
      "Requirement already satisfied: SQLAlchemy<3,>=1.4 in c:\\users\\congn\\anaconda3\\envs\\wxai_langchain\\lib\\site-packages (from langchain) (2.0.19)\n",
      "Requirement already satisfied: aiohttp<4.0.0,>=3.8.3 in c:\\users\\congn\\anaconda3\\envs\\wxai_langchain\\lib\\site-packages (from langchain) (3.8.5)\n",
      "Requirement already satisfied: async-timeout<5.0.0,>=4.0.0 in c:\\users\\congn\\anaconda3\\envs\\wxai_langchain\\lib\\site-packages (from langchain) (4.0.2)\n",
      "Requirement already satisfied: dataclasses-json<0.6.0,>=0.5.7 in c:\\users\\congn\\anaconda3\\envs\\wxai_langchain\\lib\\site-packages (from langchain) (0.5.13)\n",
      "Requirement already satisfied: langsmith<0.1.0,>=0.0.11 in c:\\users\\congn\\anaconda3\\envs\\wxai_langchain\\lib\\site-packages (from langchain) (0.0.14)\n",
      "Requirement already satisfied: numexpr<3.0.0,>=2.8.4 in c:\\users\\congn\\anaconda3\\envs\\wxai_langchain\\lib\\site-packages (from langchain) (2.8.4)\n",
      "Requirement already satisfied: numpy<2,>=1 in c:\\users\\congn\\anaconda3\\envs\\wxai_langchain\\lib\\site-packages (from langchain) (1.25.1)\n",
      "Requirement already satisfied: openapi-schema-pydantic<2.0,>=1.2 in c:\\users\\congn\\anaconda3\\envs\\wxai_langchain\\lib\\site-packages (from langchain) (1.2.4)\n",
      "Requirement already satisfied: pydantic<2,>=1 in c:\\users\\congn\\anaconda3\\envs\\wxai_langchain\\lib\\site-packages (from langchain) (1.10.10)\n",
      "Requirement already satisfied: requests<3,>=2 in c:\\users\\congn\\anaconda3\\envs\\wxai_langchain\\lib\\site-packages (from langchain) (2.31.0)\n",
      "Requirement already satisfied: tenacity<9.0.0,>=8.1.0 in c:\\users\\congn\\anaconda3\\envs\\wxai_langchain\\lib\\site-packages (from langchain) (8.2.2)\n",
      "Requirement already satisfied: attrs>=17.3.0 in c:\\users\\congn\\anaconda3\\envs\\wxai_langchain\\lib\\site-packages (from aiohttp<4.0.0,>=3.8.3->langchain) (22.1.0)\n",
      "Requirement already satisfied: charset-normalizer<4.0,>=2.0 in c:\\users\\congn\\appdata\\roaming\\python\\python39\\site-packages (from aiohttp<4.0.0,>=3.8.3->langchain) (3.2.0)\n",
      "Requirement already satisfied: multidict<7.0,>=4.5 in c:\\users\\congn\\anaconda3\\envs\\wxai_langchain\\lib\\site-packages (from aiohttp<4.0.0,>=3.8.3->langchain) (6.0.4)\n",
      "Requirement already satisfied: yarl<2.0,>=1.0 in c:\\users\\congn\\anaconda3\\envs\\wxai_langchain\\lib\\site-packages (from aiohttp<4.0.0,>=3.8.3->langchain) (1.9.2)\n",
      "Requirement already satisfied: frozenlist>=1.1.1 in c:\\users\\congn\\anaconda3\\envs\\wxai_langchain\\lib\\site-packages (from aiohttp<4.0.0,>=3.8.3->langchain) (1.4.0)\n",
      "Requirement already satisfied: aiosignal>=1.1.2 in c:\\users\\congn\\anaconda3\\envs\\wxai_langchain\\lib\\site-packages (from aiohttp<4.0.0,>=3.8.3->langchain) (1.3.1)\n",
      "Requirement already satisfied: marshmallow<4.0.0,>=3.18.0 in c:\\users\\congn\\anaconda3\\envs\\wxai_langchain\\lib\\site-packages (from dataclasses-json<0.6.0,>=0.5.7->langchain) (3.20.1)\n",
      "Requirement already satisfied: typing-inspect<1,>=0.4.0 in c:\\users\\congn\\anaconda3\\envs\\wxai_langchain\\lib\\site-packages (from dataclasses-json<0.6.0,>=0.5.7->langchain) (0.9.0)\n",
      "Requirement already satisfied: typing-extensions>=4.2.0 in c:\\users\\congn\\anaconda3\\envs\\wxai_langchain\\lib\\site-packages (from pydantic<2,>=1->langchain) (4.7.1)\n",
      "Requirement already satisfied: idna<4,>=2.5 in c:\\users\\congn\\anaconda3\\envs\\wxai_langchain\\lib\\site-packages (from requests<3,>=2->langchain) (3.4)\n",
      "Requirement already satisfied: urllib3<3,>=1.21.1 in c:\\users\\congn\\anaconda3\\envs\\wxai_langchain\\lib\\site-packages (from requests<3,>=2->langchain) (1.26.16)\n",
      "Requirement already satisfied: certifi>=2017.4.17 in c:\\users\\congn\\anaconda3\\envs\\wxai_langchain\\lib\\site-packages (from requests<3,>=2->langchain) (2023.7.22)\n",
      "Requirement already satisfied: greenlet!=0.4.17 in c:\\users\\congn\\anaconda3\\envs\\wxai_langchain\\lib\\site-packages (from SQLAlchemy<3,>=1.4->langchain) (2.0.2)\n",
      "Requirement already satisfied: packaging>=17.0 in c:\\users\\congn\\anaconda3\\envs\\wxai_langchain\\lib\\site-packages (from marshmallow<4.0.0,>=3.18.0->dataclasses-json<0.6.0,>=0.5.7->langchain) (23.0)\n",
      "Requirement already satisfied: mypy-extensions>=0.3.0 in c:\\users\\congn\\anaconda3\\envs\\wxai_langchain\\lib\\site-packages (from typing-inspect<1,>=0.4.0->dataclasses-json<0.6.0,>=0.5.7->langchain) (1.0.0)\n"
     ]
    }
   ],
   "source": [
    "!pip install ibm_cloud_sdk_core\n",
    "!pip install ibm-generative-ai\n",
    "!pip install langchain"
   ]
  },
  {
   "cell_type": "code",
   "execution_count": 2,
   "id": "384b2679-ed77-49d1-b088-7efb9a49408c",
   "metadata": {
    "ExecuteTime": {
     "end_time": "2023-07-27T10:03:53.112056900Z",
     "start_time": "2023-07-27T10:03:53.068252Z"
    },
    "tags": []
   },
   "outputs": [],
   "source": [
    "from getpass import getpass"
   ]
  },
  {
   "cell_type": "code",
   "execution_count": 3,
   "id": "008aed90-fa5c-4fec-852c-4b06fb87f898",
   "metadata": {
    "ExecuteTime": {
     "end_time": "2023-07-27T10:03:56.804542800Z",
     "start_time": "2023-07-27T10:03:53.083266Z"
    },
    "tags": []
   },
   "outputs": [
    {
     "name": "stdin",
     "output_type": "stream",
     "text": [
      " ········\n"
     ]
    }
   ],
   "source": [
    "api_key = getpass()"
   ]
  },
  {
   "cell_type": "code",
   "execution_count": 4,
   "id": "f409c2dd-163b-4e2d-9a77-57f8bdfe62c0",
   "metadata": {
    "ExecuteTime": {
     "end_time": "2023-07-27T10:04:00.252474Z",
     "start_time": "2023-07-27T10:03:56.777540800Z"
    },
    "tags": []
   },
   "outputs": [
    {
     "name": "stdin",
     "output_type": "stream",
     "text": [
      " ········\n"
     ]
    }
   ],
   "source": [
    "project_id = getpass()"
   ]
  },
  {
   "cell_type": "code",
   "execution_count": 5,
   "id": "a65a8645-7933-4c80-92ac-cbca82523245",
   "metadata": {
    "ExecuteTime": {
     "end_time": "2023-07-27T10:04:00.252474Z",
     "start_time": "2023-07-27T10:04:00.222020900Z"
    },
    "tags": []
   },
   "outputs": [],
   "source": [
    "api_endpoint = 'https://us-south.ml.cloud.ibm.com/ml/v1-beta/generation/text?version=2023-05-29'"
   ]
  },
  {
   "cell_type": "code",
   "execution_count": 6,
   "id": "32235562-2631-4f6f-bd7b-6f01407cb5e7",
   "metadata": {
    "ExecuteTime": {
     "end_time": "2023-07-27T10:05:36.911412Z",
     "start_time": "2023-07-27T10:05:36.873412800Z"
    },
    "tags": []
   },
   "outputs": [],
   "source": [
    "from wxai_langchain.extensions.langchain.llm import LangChainInterface\n",
    "from wxai_langchain.credentials import Credentials\n",
    "\n",
    "creds = Credentials(api_key=api_key, project_id=project_id, api_endpoint=api_endpoint)\n",
    "\n",
    "parameters = {\n",
    "    \"decoding_method\": \"sample\",\n",
    "    \"max_new_tokens\": 100,\n",
    "    \"min_new_tokens\": 0,\n",
    "    \"temperature\": 1,\n",
    "    \"repetition_penalty\": 1\n",
    "}\n",
    "\n",
    "llm = LangChainInterface(model=\"google/flan-ul2\", params=parameters, credentials=creds)"
   ]
  },
  {
   "cell_type": "code",
   "execution_count": 7,
   "id": "f0825a53-9026-4f5f-8804-b67947f6c379",
   "metadata": {
    "ExecuteTime": {
     "start_time": "2023-07-27T10:04:00.533524800Z"
    }
   },
   "outputs": [
    {
     "data": {
      "text/plain": [
       "'a living thing'"
      ]
     },
     "execution_count": 7,
     "metadata": {},
     "output_type": "execute_result"
    }
   ],
   "source": [
    "llm(\"What is life?\")"
   ]
  },
  {
   "cell_type": "code",
   "execution_count": 8,
   "id": "72725c55-0cc5-41e2-be03-9c63c68eb1dc",
   "metadata": {
    "ExecuteTime": {
     "end_time": "2023-07-27T10:04:00.539525900Z",
     "start_time": "2023-07-27T10:04:00.534527500Z"
    },
    "tags": []
   },
   "outputs": [
    {
     "data": {
      "text/plain": [
       "'Tell me a funny joke about chickens.'"
      ]
     },
     "execution_count": 8,
     "metadata": {},
     "output_type": "execute_result"
    }
   ],
   "source": [
    "from langchain import PromptTemplate\n",
    "\n",
    "# An example prompt with no input variables\n",
    "no_input_prompt = PromptTemplate(input_variables=[], template=\"Tell me a joke.\")\n",
    "no_input_prompt.format()\n",
    "# -> \"Tell me a joke.\"\n",
    "\n",
    "# An example prompt with one input variable\n",
    "one_input_prompt = PromptTemplate(input_variables=[\"adjective\"], template=\"Tell me a {adjective} joke.\")\n",
    "one_input_prompt.format(adjective=\"funny\")\n",
    "# -> \"Tell me a funny joke.\"\n",
    "\n",
    "# An example prompt with multiple input variables\n",
    "multiple_input_prompt = PromptTemplate(\n",
    "    input_variables=[\"adjective\", \"content\"], \n",
    "    template=\"Tell me a {adjective} joke about {content}.\"\n",
    ")\n",
    "multiple_input_prompt.format(adjective=\"funny\", content=\"chickens\")\n",
    "# -> \"Tell me a funny joke about chickens.\""
   ]
  },
  {
   "cell_type": "code",
   "execution_count": 9,
   "id": "ed1110b3-cdda-4664-99e3-902ea5c34674",
   "metadata": {
    "ExecuteTime": {
     "start_time": "2023-07-27T10:04:00.536526900Z"
    },
    "tags": []
   },
   "outputs": [
    {
     "data": {
      "text/plain": [
       "'A chicken gathered so many clues from the true, he became lost in the jungle and arrested by an anti-matter officer.'"
      ]
     },
     "execution_count": 9,
     "metadata": {},
     "output_type": "execute_result"
    }
   ],
   "source": [
    "llm(multiple_input_prompt.format(adjective=\"funny\", content=\"chickens\"))"
   ]
  },
  {
   "cell_type": "code",
   "execution_count": null,
   "id": "c2e34089-aff3-4020-b78b-a0229fd47925",
   "metadata": {
    "ExecuteTime": {
     "start_time": "2023-07-27T10:04:00.537526400Z"
    }
   },
   "outputs": [],
   "source": []
  }
 ],
 "metadata": {
  "kernelspec": {
   "display_name": "Python 3 (ipykernel)",
   "language": "python",
   "name": "python3"
  },
  "language_info": {
   "codemirror_mode": {
    "name": "ipython",
    "version": 3
   },
   "file_extension": ".py",
   "mimetype": "text/x-python",
   "name": "python",
   "nbconvert_exporter": "python",
   "pygments_lexer": "ipython3",
   "version": "3.9.17"
  }
 },
 "nbformat": 4,
 "nbformat_minor": 5
}
